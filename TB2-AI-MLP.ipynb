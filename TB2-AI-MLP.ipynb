{
 "cells": [
  {
   "cell_type": "markdown",
   "metadata": {},
   "source": [
    "# TB2 - Detector de cáncer de mama\n",
    "\n",
    "## Perceptrón multi-capa\n",
    "\n",
    "<img src=\"https://i.imgur.com/2bhP1YP.png\">\n",
    "\n",
    "###### Kcomt Martinez, Juan Felipe\n",
    "###### López López, Iván Luigui\n",
    "###### Sánchez Maita, Agustín Alejandro\n",
    "\n",
    "\n"
   ]
  },
  {
   "cell_type": "markdown",
   "metadata": {},
   "source": [
    "## Dataset: Breast Cancer Prediction Dataset\n",
    "\n",
    "https://www.kaggle.com/merishnasuwal/breast-cancer-prediction-dataset\n",
    "\n",
    "El dataset utilizado contiene muestras de medidas bultos tomadas con el fin de saber si son cancerígenas. Además, tiene el resultado final (diagnóstico), el cual tiene el valor de 0 si el bulto es benigno y 1 si el bulto es maligno.\n",
    "\n",
    "### Columnas:\n",
    "\n",
    "1. Radio\n",
    "2. Textura \n",
    "3. Perímetro \n",
    "4. Área\n",
    "5. Suavidad\n",
    "6. Diagnóstico"
   ]
  },
  {
   "cell_type": "markdown",
   "metadata": {},
   "source": [
    "### Importación de dataset"
   ]
  },
  {
   "cell_type": "code",
   "execution_count": 127,
   "metadata": {},
   "outputs": [
    {
     "name": "stdout",
     "output_type": "stream",
     "text": [
      "   radio  textura  perimetro    area  suavidad  diagnostico\n",
      "0  17.99    10.38     122.80  1001.0   0.11840            0\n",
      "1  20.57    17.77     132.90  1326.0   0.08474            0\n",
      "2  19.69    21.25     130.00  1203.0   0.10960            0\n",
      "3  11.42    20.38      77.58   386.1   0.14250            0\n",
      "4  20.29    14.34     135.10  1297.0   0.10030            0\n",
      "[0 1]\n"
     ]
    }
   ],
   "source": [
    "import pandas as pd\n",
    "import numpy as np\n",
    "import pathlib\n",
    "\n",
    "muestras_bultos = pd.read_csv(pathlib.Path().resolve() / 'data' / 'data_cancer_mama.csv')\n",
    "print(muestras_bultos.head())\n",
    "print(muestras_bultos['diagnostico'].unique())"
   ]
  },
  {
   "cell_type": "code",
   "execution_count": 128,
   "metadata": {},
   "outputs": [
    {
     "data": {
      "text/plain": [
       "(569, 6)"
      ]
     },
     "execution_count": 128,
     "metadata": {},
     "output_type": "execute_result"
    }
   ],
   "source": [
    "muestras_bultos.shape"
   ]
  },
  {
   "cell_type": "code",
   "execution_count": 129,
   "metadata": {
    "scrolled": true
   },
   "outputs": [
    {
     "data": {
      "text/html": [
       "<div>\n",
       "<style scoped>\n",
       "    .dataframe tbody tr th:only-of-type {\n",
       "        vertical-align: middle;\n",
       "    }\n",
       "\n",
       "    .dataframe tbody tr th {\n",
       "        vertical-align: top;\n",
       "    }\n",
       "\n",
       "    .dataframe thead th {\n",
       "        text-align: right;\n",
       "    }\n",
       "</style>\n",
       "<table border=\"1\" class=\"dataframe\">\n",
       "  <thead>\n",
       "    <tr style=\"text-align: right;\">\n",
       "      <th></th>\n",
       "      <th>radio</th>\n",
       "      <th>textura</th>\n",
       "      <th>perimetro</th>\n",
       "      <th>area</th>\n",
       "      <th>suavidad</th>\n",
       "      <th>diagnostico</th>\n",
       "    </tr>\n",
       "  </thead>\n",
       "  <tbody>\n",
       "    <tr>\n",
       "      <th>count</th>\n",
       "      <td>569.000000</td>\n",
       "      <td>569.000000</td>\n",
       "      <td>569.000000</td>\n",
       "      <td>569.000000</td>\n",
       "      <td>569.000000</td>\n",
       "      <td>569.000000</td>\n",
       "    </tr>\n",
       "    <tr>\n",
       "      <th>mean</th>\n",
       "      <td>14.127292</td>\n",
       "      <td>19.289649</td>\n",
       "      <td>91.969033</td>\n",
       "      <td>654.889104</td>\n",
       "      <td>0.096360</td>\n",
       "      <td>0.627417</td>\n",
       "    </tr>\n",
       "    <tr>\n",
       "      <th>std</th>\n",
       "      <td>3.524049</td>\n",
       "      <td>4.301036</td>\n",
       "      <td>24.298981</td>\n",
       "      <td>351.914129</td>\n",
       "      <td>0.014064</td>\n",
       "      <td>0.483918</td>\n",
       "    </tr>\n",
       "    <tr>\n",
       "      <th>min</th>\n",
       "      <td>6.981000</td>\n",
       "      <td>9.710000</td>\n",
       "      <td>43.790000</td>\n",
       "      <td>143.500000</td>\n",
       "      <td>0.052630</td>\n",
       "      <td>0.000000</td>\n",
       "    </tr>\n",
       "    <tr>\n",
       "      <th>25%</th>\n",
       "      <td>11.700000</td>\n",
       "      <td>16.170000</td>\n",
       "      <td>75.170000</td>\n",
       "      <td>420.300000</td>\n",
       "      <td>0.086370</td>\n",
       "      <td>0.000000</td>\n",
       "    </tr>\n",
       "    <tr>\n",
       "      <th>50%</th>\n",
       "      <td>13.370000</td>\n",
       "      <td>18.840000</td>\n",
       "      <td>86.240000</td>\n",
       "      <td>551.100000</td>\n",
       "      <td>0.095870</td>\n",
       "      <td>1.000000</td>\n",
       "    </tr>\n",
       "    <tr>\n",
       "      <th>75%</th>\n",
       "      <td>15.780000</td>\n",
       "      <td>21.800000</td>\n",
       "      <td>104.100000</td>\n",
       "      <td>782.700000</td>\n",
       "      <td>0.105300</td>\n",
       "      <td>1.000000</td>\n",
       "    </tr>\n",
       "    <tr>\n",
       "      <th>max</th>\n",
       "      <td>28.110000</td>\n",
       "      <td>39.280000</td>\n",
       "      <td>188.500000</td>\n",
       "      <td>2501.000000</td>\n",
       "      <td>0.163400</td>\n",
       "      <td>1.000000</td>\n",
       "    </tr>\n",
       "  </tbody>\n",
       "</table>\n",
       "</div>"
      ],
      "text/plain": [
       "            radio     textura   perimetro         area    suavidad  \\\n",
       "count  569.000000  569.000000  569.000000   569.000000  569.000000   \n",
       "mean    14.127292   19.289649   91.969033   654.889104    0.096360   \n",
       "std      3.524049    4.301036   24.298981   351.914129    0.014064   \n",
       "min      6.981000    9.710000   43.790000   143.500000    0.052630   \n",
       "25%     11.700000   16.170000   75.170000   420.300000    0.086370   \n",
       "50%     13.370000   18.840000   86.240000   551.100000    0.095870   \n",
       "75%     15.780000   21.800000  104.100000   782.700000    0.105300   \n",
       "max     28.110000   39.280000  188.500000  2501.000000    0.163400   \n",
       "\n",
       "       diagnostico  \n",
       "count   569.000000  \n",
       "mean      0.627417  \n",
       "std       0.483918  \n",
       "min       0.000000  \n",
       "25%       0.000000  \n",
       "50%       1.000000  \n",
       "75%       1.000000  \n",
       "max       1.000000  "
      ]
     },
     "execution_count": 129,
     "metadata": {},
     "output_type": "execute_result"
    }
   ],
   "source": [
    "muestras_bultos.describe(include = 'all')"
   ]
  },
  {
   "cell_type": "code",
   "execution_count": 130,
   "metadata": {},
   "outputs": [
    {
     "name": "stdout",
     "output_type": "stream",
     "text": [
      "   radio  textura  perimetro    area  suavidad\n",
      "0  17.99    10.38      122.8  1001.0   0.11840\n",
      "1  20.57    17.77      132.9  1326.0   0.08474\n"
     ]
    }
   ],
   "source": [
    "inputs = muestras_bultos.drop('diagnostico', axis=1)\n",
    "print(inputs.head(2))"
   ]
  },
  {
   "cell_type": "code",
   "execution_count": 131,
   "metadata": {},
   "outputs": [
    {
     "name": "stdout",
     "output_type": "stream",
     "text": [
      "0    0\n",
      "1    0\n",
      "Name: diagnostico, dtype: int64\n"
     ]
    }
   ],
   "source": [
    "output = muestras_bultos['diagnostico']\n",
    "print(output.head(2))"
   ]
  },
  {
   "cell_type": "markdown",
   "metadata": {},
   "source": [
    "## División de dataset\n",
    "\n",
    "Dividimos el dataset entre la sección que nos servirá para entrenar a la red neuronal y el que nos servirá para probar la red.\n"
   ]
  },
  {
   "cell_type": "code",
   "execution_count": 132,
   "metadata": {},
   "outputs": [
    {
     "name": "stdout",
     "output_type": "stream",
     "text": [
      "(398, 5)\n",
      "(171,)\n"
     ]
    }
   ],
   "source": [
    "from sklearn.model_selection import train_test_split\n",
    "inputs_train, inputs_test, output_train, output_test = train_test_split(inputs, output,test_size=0.3)\n",
    "print(inputs_train.shape)\n",
    "print(output_test.shape)"
   ]
  },
  {
   "cell_type": "markdown",
   "metadata": {},
   "source": [
    "## Perceptrón Multi-capa\n",
    "\n",
    "Generamos el perceptrón multi-capa utilizando la función core para MLP. La función de activación es relu, las iteraciones 500 y la cantidad de neuronas en la única capa oculta es 100.\n",
    "<img src=\"https://i.imgur.com/z1Ik34F.png\">"
   ]
  },
  {
   "cell_type": "code",
   "execution_count": 133,
   "metadata": {},
   "outputs": [],
   "source": [
    "from sklearn.neural_network import MLPClassifier"
   ]
  },
  {
   "cell_type": "code",
   "execution_count": 134,
   "metadata": {},
   "outputs": [
    {
     "data": {
      "text/plain": [
       "MLPClassifier(max_iter=500)"
      ]
     },
     "execution_count": 134,
     "metadata": {},
     "output_type": "execute_result"
    }
   ],
   "source": [
    "mlp = MLPClassifier(max_iter=500, activation='relu', hidden_layer_sizes = (100,))\n",
    "mlp"
   ]
  },
  {
   "cell_type": "markdown",
   "metadata": {},
   "source": [
    "### Función de predicción"
   ]
  },
  {
   "cell_type": "code",
   "execution_count": 135,
   "metadata": {},
   "outputs": [],
   "source": [
    "def prediccion():\n",
    "    radio = input(\"Ingrese el radio del bulto:  \")\n",
    "    textura = input(\"Ingrese la textura del bulto:  \")\n",
    "    perimetro = input(\"Ingrese el perímetro del bulto:  \")\n",
    "    area = input(\"Ingrese el área del bulto:  \")\n",
    "    suavidad = input(\"Ingrese la suavidad del bulto:  \")    \n",
    "    print(\" \")\n",
    "    cols = [\"radio\", \"textura\", \"perimetro\", \"area\", \"suavidad\"]\n",
    "    df = pd.DataFrame(columns = cols)\n",
    "    df.loc[1] = [radio, textura, perimetro, area, suavidad]\n",
    "    prediccion = mlp.predict(df)\n",
    "    if(prediccion == 0):\n",
    "        print(\"El bulto no es cancerígeno\")\n",
    "    else:\n",
    "        print(\"El bulto es cancerígeno\")"
   ]
  },
  {
   "cell_type": "markdown",
   "metadata": {},
   "source": [
    "### Entrenamiento"
   ]
  },
  {
   "cell_type": "code",
   "execution_count": 136,
   "metadata": {},
   "outputs": [
    {
     "data": {
      "text/plain": [
       "MLPClassifier(max_iter=500)"
      ]
     },
     "execution_count": 136,
     "metadata": {},
     "output_type": "execute_result"
    }
   ],
   "source": [
    "mlp.fit(inputs_train,output_train)"
   ]
  },
  {
   "cell_type": "markdown",
   "metadata": {},
   "source": [
    "### Prueba\n",
    "\n",
    "Se realiza la predicción de cada una de las muestras de la sección de dataset que separamos para ello.\n",
    "\n",
    "#### 0: No es cáncer\n",
    "#### 1: Es cáncer"
   ]
  },
  {
   "cell_type": "code",
   "execution_count": 137,
   "metadata": {},
   "outputs": [
    {
     "data": {
      "text/plain": [
       "array([0, 0, 1, 0, 1, 1, 0, 1, 1, 1, 0, 1, 1, 1, 0, 1, 0, 0, 1, 0, 1, 0,\n",
       "       1, 1, 1, 1, 1, 0, 1, 0, 1, 0, 1, 1, 1, 0, 0, 1, 1, 1, 1, 1, 0, 1,\n",
       "       0, 1, 1, 1, 1, 1, 0, 0, 1, 1, 1, 1, 1, 0, 1, 1, 1, 1, 1, 1, 0, 1,\n",
       "       1, 1, 1, 0, 1, 0, 0, 1, 1, 1, 1, 0, 0, 1, 1, 1, 0, 0, 1, 1, 1, 0,\n",
       "       1, 1, 0, 0, 1, 1, 0, 1, 1, 1, 1, 1, 1, 1, 0, 1, 1, 0, 1, 0, 1, 1,\n",
       "       1, 1, 1, 0, 0, 1, 1, 0, 1, 1, 0, 0, 1, 1, 0, 1, 1, 0, 1, 0, 0, 1,\n",
       "       1, 0, 1, 1, 0, 1, 0, 0, 0, 1, 1, 1, 1, 1, 0, 0, 1, 1, 1, 0, 1, 0,\n",
       "       0, 1, 1, 0, 1, 0, 0, 1, 1, 0, 0, 0, 0, 1, 0, 1, 1], dtype=int64)"
      ]
     },
     "execution_count": 137,
     "metadata": {},
     "output_type": "execute_result"
    }
   ],
   "source": [
    "output_prediccion = mlp.predict(inputs_test)\n",
    "output_prediccion"
   ]
  },
  {
   "cell_type": "markdown",
   "metadata": {},
   "source": [
    "## Informe sobre los resultados\n",
    "\n",
    "Para tener una medición más certera sobre nuestro modelo, se presenta un informe con la cantidad de resultados positivos y negativos y su precisión respecto a los valores hallados inicialmente."
   ]
  },
  {
   "cell_type": "code",
   "execution_count": 138,
   "metadata": {},
   "outputs": [
    {
     "data": {
      "text/plain": [
       "array([[53, 13],\n",
       "       [ 9, 96]], dtype=int64)"
      ]
     },
     "execution_count": 138,
     "metadata": {},
     "output_type": "execute_result"
    }
   ],
   "source": [
    "from sklearn.metrics import classification_report,confusion_matrix\n",
    "\n",
    "confusion_matrix(output_test,output_prediccion)"
   ]
  },
  {
   "cell_type": "code",
   "execution_count": 139,
   "metadata": {},
   "outputs": [
    {
     "name": "stdout",
     "output_type": "stream",
     "text": [
      "              precision    recall  f1-score   support\n",
      "\n",
      "           0       0.85      0.80      0.83        66\n",
      "           1       0.88      0.91      0.90       105\n",
      "\n",
      "    accuracy                           0.87       171\n",
      "   macro avg       0.87      0.86      0.86       171\n",
      "weighted avg       0.87      0.87      0.87       171\n",
      "\n"
     ]
    }
   ],
   "source": [
    "print(classification_report(output_test,output_prediccion))"
   ]
  },
  {
   "cell_type": "markdown",
   "metadata": {},
   "source": [
    "## User Interface\n",
    "\n",
    "<img src=\"https://cdn2.salud180.com/sites/default/files/styles/medium/public/field/image/2020/09/que-es-el-cancer-de-mama.jpg\">\n",
    "\n",
    "### Por favor, ingrese las medidas del bulto para poder predecir si es maligno o benigno:"
   ]
  },
  {
   "cell_type": "code",
   "execution_count": 140,
   "metadata": {},
   "outputs": [
    {
     "name": "stdout",
     "output_type": "stream",
     "text": [
      "Ingrese el radio del bulto:  15\n",
      "Ingrese la textura del bulto:  20\n",
      "Ingrese el perímetro del bulto:  30\n",
      "Ingrese el área del bulto:  100\n",
      "Ingrese la suavidad del bulto:  0.1\n",
      " \n",
      "El bulto es cancerígeno\n"
     ]
    }
   ],
   "source": [
    "prediccion()"
   ]
  },
  {
   "cell_type": "markdown",
   "metadata": {},
   "source": [
    "<img src=\"https://i.imgur.com/gc575F5.png\">"
   ]
  }
 ],
 "metadata": {
  "kernelspec": {
   "display_name": "Python 3 (ipykernel)",
   "language": "python",
   "name": "python3"
  },
  "language_info": {
   "codemirror_mode": {
    "name": "ipython",
    "version": 3
   },
   "file_extension": ".py",
   "mimetype": "text/x-python",
   "name": "python",
   "nbconvert_exporter": "python",
   "pygments_lexer": "ipython3",
   "version": "3.9.7"
  }
 },
 "nbformat": 4,
 "nbformat_minor": 2
}
