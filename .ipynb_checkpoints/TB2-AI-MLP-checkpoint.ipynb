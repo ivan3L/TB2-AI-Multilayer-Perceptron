{
 "cells": [
  {
   "cell_type": "markdown",
   "metadata": {},
   "source": [
    "# TB2 - Predicción de cáncer de mama con perceptrón multi-capa\n",
    "\n",
    "###### Kcomt Martinez, Juan Felipe\n",
    "###### López López, Iván Luigui\n",
    "###### Sánchez Maita, Agustín Alejandro\n"
   ]
  },
  {
   "cell_type": "markdown",
   "metadata": {},
   "source": [
    "## Dataset: Breast Cancer Prediction Dataset\n",
    "\n",
    "https://www.kaggle.com/merishnasuwal/breast-cancer-prediction-dataset\n",
    "\n",
    "El dataset utilizado contiene muestras de medidas bultos tomadas con el fin de saber si son cancerígenas. Además, tiene el resultado final (diagnóstico), el cual tiene el valor de 0 si el bulto es benigno y 1 si el bulto es maligno.\n",
    "\n",
    "### Columnas:\n",
    "\n",
    "1. Radio\n",
    "2. Textura \n",
    "3. Perímetro \n",
    "4. Área\n",
    "5. Suavidad\n",
    "6. Diagnóstico"
   ]
  },
  {
   "cell_type": "markdown",
   "metadata": {},
   "source": [
    "### Importación de dataset"
   ]
  },
  {
   "cell_type": "code",
   "execution_count": null,
   "metadata": {},
   "outputs": [],
   "source": [
    "import pandas as pd\n",
    "import numpy as np\n",
    "import pathlib\n",
    "\n",
    "muestras_bultos = pd.read_csv(pathlib.Path().resolve() / 'data' / 'data_cancer_mama.csv')\n",
    "print(muestras_bultos.head())\n",
    "print(muestras_bultos['diagnostico'].unique())"
   ]
  },
  {
   "cell_type": "code",
   "execution_count": null,
   "metadata": {},
   "outputs": [],
   "source": [
    "muestras_bultos.shape"
   ]
  },
  {
   "cell_type": "code",
   "execution_count": null,
   "metadata": {
    "scrolled": true
   },
   "outputs": [],
   "source": [
    "muestras_bultos.describe(include = 'all')"
   ]
  },
  {
   "cell_type": "code",
   "execution_count": null,
   "metadata": {},
   "outputs": [],
   "source": [
    "inputs = muestras_bultos.drop('diagnostico', axis=1)\n",
    "print(inputs.head(2))"
   ]
  },
  {
   "cell_type": "code",
   "execution_count": null,
   "metadata": {},
   "outputs": [],
   "source": [
    "output = muestras_bultos['diagnostico']\n",
    "print(output.head(2))"
   ]
  },
  {
   "cell_type": "markdown",
   "metadata": {},
   "source": [
    "## División de dataset\n",
    "\n",
    "Dividimos el dataset entre la sección que nos servirá para entrenar a la red neuronal y el que nos servirá para probar la red.\n"
   ]
  },
  {
   "cell_type": "code",
   "execution_count": null,
   "metadata": {},
   "outputs": [],
   "source": [
    "from sklearn.model_selection import train_test_split\n",
    "inputs_train, inputs_test, output_train, output_test = train_test_split(inputs, output,test_size=0.3)\n",
    "print(inputs_train.shape)\n",
    "print(output_test.shape)"
   ]
  },
  {
   "cell_type": "markdown",
   "metadata": {},
   "source": [
    "## Perceptrón Multi-capa\n",
    "\n",
    "Generamos el perceptrón multi-capa utilizando la función core para MLP. La función de activación es relu, las iteraciones 500 y la cantidad de neuronas en la única capa oculta es 100.\n",
    "<img src=\"https://i.imgur.com/z1Ik34F.png\">"
   ]
  },
  {
   "cell_type": "code",
   "execution_count": null,
   "metadata": {},
   "outputs": [],
   "source": [
    "from sklearn.neural_network import MLPClassifier"
   ]
  },
  {
   "cell_type": "code",
   "execution_count": null,
   "metadata": {},
   "outputs": [],
   "source": [
    "mlp = MLPClassifier(max_iter=500, activation='relu', hidden_layer_sizes = (100,))\n",
    "mlp"
   ]
  },
  {
   "cell_type": "markdown",
   "metadata": {},
   "source": [
    "### Entrenamiento"
   ]
  },
  {
   "cell_type": "code",
   "execution_count": null,
   "metadata": {},
   "outputs": [],
   "source": [
    "mlp.fit(inputs_train,output_train)"
   ]
  },
  {
   "cell_type": "markdown",
   "metadata": {},
   "source": [
    "### Prueba\n",
    "\n",
    "Se realiza la predicción de cada una de las muestras de la sección de dataset que separamos para ello.\n",
    "\n",
    "#### 0: No es cáncer\n",
    "#### 1: Es cáncer"
   ]
  },
  {
   "cell_type": "code",
   "execution_count": null,
   "metadata": {},
   "outputs": [],
   "source": [
    "output_prediccion = mlp.predict(inputs_test)\n",
    "output_prediccion"
   ]
  },
  {
   "cell_type": "markdown",
   "metadata": {},
   "source": [
    "## Informe sobre los resultados\n",
    "\n",
    "Para tener una medición más certera sobre nuestro modelo, se presenta un informe con la cantidad de resultados positivos y negativos y su precisión respecto a los valores hallados inicialmente."
   ]
  },
  {
   "cell_type": "code",
   "execution_count": null,
   "metadata": {},
   "outputs": [],
   "source": [
    "from sklearn.metrics import classification_report,confusion_matrix\n",
    "\n",
    "confusion_matrix(output_test,output_prediccion)"
   ]
  },
  {
   "cell_type": "code",
   "execution_count": null,
   "metadata": {},
   "outputs": [],
   "source": [
    "print(classification_report(output_test,output_prediccion))"
   ]
  },
  {
   "cell_type": "markdown",
   "metadata": {},
   "source": [
    "## User Interface"
   ]
  },
  {
   "cell_type": "code",
   "execution_count": null,
   "metadata": {},
   "outputs": [],
   "source": [
    "radio = input(\"Ingrese el radio del tumor (Se recomienda un valor entre 10 y 20)\")\n",
    "#textura = input(\"Ingrese el radio del tumor (Se recomienda un valor entre 10 y 20)\")\n",
    "#perimetro = input(\"Ingrese el radio del tumor (Se recomienda un valor entre 10 y 20)\")\n",
    "#area = input(\"Ingrese el radio del tumor (Se recomienda un valor entre 10 y 20)\")\n",
    "#suavidad = input(\"Ingrese el radio del tumor (Se recomienda un valor entre 10 y 20)\")"
   ]
  },
  {
   "cell_type": "code",
   "execution_count": null,
   "metadata": {},
   "outputs": [],
   "source": []
  }
 ],
 "metadata": {
  "kernelspec": {
   "display_name": "Python 3 (ipykernel)",
   "language": "python",
   "name": "python3"
  },
  "language_info": {
   "codemirror_mode": {
    "name": "ipython",
    "version": 3
   },
   "file_extension": ".py",
   "mimetype": "text/x-python",
   "name": "python",
   "nbconvert_exporter": "python",
   "pygments_lexer": "ipython3",
   "version": "3.9.7"
  }
 },
 "nbformat": 4,
 "nbformat_minor": 2
}
